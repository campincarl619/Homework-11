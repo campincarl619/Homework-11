{
 "cells": [
  {
   "cell_type": "code",
   "execution_count": 1,
   "metadata": {
    "collapsed": true
   },
   "outputs": [],
   "source": [
    "import pandas as pd"
   ]
  },
  {
   "cell_type": "code",
   "execution_count": 2,
   "metadata": {
    "collapsed": true
   },
   "outputs": [],
   "source": [
    "filePath1 = \"Instructions/Resources/hawaii_measurements.csv\"\n",
    "filePath2 = \"Instructions/Resources/hawaii_stations.csv\""
   ]
  },
  {
   "cell_type": "code",
   "execution_count": 3,
   "metadata": {
    "collapsed": true
   },
   "outputs": [],
   "source": [
    "measurementsDF = pd.read_csv(filePath1)\n",
    "stationsDF = pd.read_csv(filePath2)\n",
    "\n",
    "measurementsDF = measurementsDF.fillna(0)\n",
    "\n",
    "measurementsDF.to_csv(\"Instructions/Resources/clean_hawaii_measurements.csv\", index = True, header = False)\n",
    "stationsDF.to_csv(\"Instructions/Resources/clean_hawaii_stations.csv\", index = True, header = False)"
   ]
  },
  {
   "cell_type": "code",
   "execution_count": null,
   "metadata": {
    "collapsed": true
   },
   "outputs": [],
   "source": []
  }
 ],
 "metadata": {
  "kernelspec": {
   "display_name": "Python 3",
   "language": "python",
   "name": "python3"
  },
  "language_info": {
   "codemirror_mode": {
    "name": "ipython",
    "version": 3
   },
   "file_extension": ".py",
   "mimetype": "text/x-python",
   "name": "python",
   "nbconvert_exporter": "python",
   "pygments_lexer": "ipython3",
   "version": "3.6.3"
  }
 },
 "nbformat": 4,
 "nbformat_minor": 2
}
